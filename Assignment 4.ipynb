{
 "cells": [
  {
   "cell_type": "markdown",
   "metadata": {},
   "source": [
    "# 1.1 Write a Python Program(with class concepts) to find the area of the triangle using the below\n",
    "#formula.\n",
    "#area = (s*(s-a)*(s-b)*(s-c)) ** 0.5"
   ]
  },
  {
   "cell_type": "code",
   "execution_count": 1,
   "metadata": {},
   "outputs": [
    {
     "name": "stdout",
     "output_type": "stream",
     "text": [
      "a = 25\n",
      "b = 24\n",
      "c = 23\n",
      "area : 248.54778212649575\n"
     ]
    }
   ],
   "source": [
    "class Super_triangle:\n",
    "    def __init__(self, a, b, c):\n",
    "        self.a = float(a)\n",
    "        self.b = float(b)\n",
    "        self.c = float(c)\n",
    "        self.area = 0\n",
    "\n",
    "class triangle(Super_triangle):\n",
    "    def __init__(self, a, b, c):\n",
    "        Super_triangle.__init__(self, a, b, c)\n",
    "\n",
    "    def calculate_area(self):\n",
    "        s = (self.a + self.b + self.c) / 2\n",
    "        self.area = float((s * (s - self.a) * (s - self.b) * (s - self.c))) ** 0.5\n",
    "\n",
    "    def get_area(self):\n",
    "        return self.area\n",
    "\n",
    "a, b, c = input(\"a = \"), input(\"b = \"), input(\"c = \")\n",
    "\n",
    "t = triangle(a, b, c)\n",
    "t.calculate_area()\n",
    "print(\"area : {}\".format(t.get_area()))"
   ]
  },
  {
   "cell_type": "markdown",
   "metadata": {},
   "source": [
    "# 1.2 Write a function filter_long_words() that takes a list of words and an integer n and returns the list of words that are longer than n."
   ]
  },
  {
   "cell_type": "code",
   "execution_count": 3,
   "metadata": {},
   "outputs": [
    {
     "name": "stdout",
     "output_type": "stream",
     "text": [
      "Enter Names: rishabh rajat anshuman shivam raj\n",
      "Enter Number: 5\n",
      "['rishabh', 'anshuman', 'shivam']\n"
     ]
    }
   ],
   "source": [
    "list = []\n",
    "def filter_long_words():\n",
    "    text=input('Enter Names: ').split(' ')\n",
    "    n=int(input('Enter Number: '))\n",
    "    for i in text:\n",
    "        if(len(i)>n):\n",
    "            list.append(i)\n",
    "    print(list)\n",
    "\n",
    "\n",
    "filter_long_words()"
   ]
  },
  {
   "cell_type": "markdown",
   "metadata": {},
   "source": [
    "# 2.1 Write a Python program using function concept that maps list of words into a list of integers\n",
    "#representing the lengths of the corresponding words.\n",
    "#Hint: If a list [ ab,cde,erty] is passed on to the python function output should come as [2,3,4]\n",
    "#Here 2,3 and 4 are the lengths of the words in the list."
   ]
  },
  {
   "cell_type": "code",
   "execution_count": 1,
   "metadata": {},
   "outputs": [
    {
     "name": "stdout",
     "output_type": "stream",
     "text": [
      "insert list of word: rishabh singh rajat singh1\n",
      "[7, 5, 5, 6]\n"
     ]
    }
   ],
   "source": [
    "def lengths_of_word(num):\n",
    "        return (len(num))\n",
    "l = input('insert list of word: ').split(' ')\n",
    "s=list(map(lengths_of_word , l))\n",
    "\n",
    "print(s)"
   ]
  },
  {
   "cell_type": "markdown",
   "metadata": {},
   "source": [
    "# 2.2 Write a Python function which takes a character (i.e. a string of length 1) and returns True if it is a vowel, False otherwise."
   ]
  },
  {
   "cell_type": "code",
   "execution_count": 3,
   "metadata": {},
   "outputs": [
    {
     "name": "stdout",
     "output_type": "stream",
     "text": [
      "input character: o\n",
      "True\n"
     ]
    }
   ],
   "source": [
    "def vowels(char):\n",
    "    if(char == \"a\" or \"e\" or \"i\" or \"o\" or \"u\"):\n",
    "        print(\"True\")\n",
    "\n",
    "    else:\n",
    "        print(\"False\")\n",
    "\n",
    "char1 = input('input character: ')\n",
    "vowels(char1)"
   ]
  }
 ],
 "metadata": {
  "kernelspec": {
   "display_name": "Python 3",
   "language": "python",
   "name": "python3"
  },
  "language_info": {
   "codemirror_mode": {
    "name": "ipython",
    "version": 3
   },
   "file_extension": ".py",
   "mimetype": "text/x-python",
   "name": "python",
   "nbconvert_exporter": "python",
   "pygments_lexer": "ipython3",
   "version": "3.7.6"
  }
 },
 "nbformat": 4,
 "nbformat_minor": 4
}
